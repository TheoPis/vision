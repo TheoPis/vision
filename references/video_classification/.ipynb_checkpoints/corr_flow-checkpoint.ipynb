{
 "cells": [
  {
   "cell_type": "code",
   "execution_count": 203,
   "metadata": {
    "scrolled": true
   },
   "outputs": [],
   "source": [
    "import torch.nn as nn\n",
    "import torch.nn.functional as F\n",
    "\n",
    "class LeNet(nn.Module):\n",
    "    def __init__(self):\n",
    "        super(LeNet, self).__init__()\n",
    "        self.conv1 = nn.Conv2d(3, 6, 5)\n",
    "        self.conv2 = nn.Conv2d(6, 16, 5)\n",
    "        self.fc1   = nn.Linear(16*5*5, 120)\n",
    "        self.fc2   = nn.Linear(120, 84)\n",
    "        self.fc3   = nn.Linear(84, 10)\n",
    "\n",
    "    def forward(self, x):\n",
    "        out = F.relu(self.conv1(x))\n",
    "#         out = F.max_pool2d(out, 2)\n",
    "        out = F.relu(self.conv2(out))\n",
    "#         out = F.max_pool2d(out, 2)\n",
    "#         out = out.view(out.size(0), -1)\n",
    "#         out = F.relu(self.fc1(out))\n",
    "#         out = F.relu(self.fc2(out))\n",
    "#         out = self.fc3(out)\n",
    "        return out\n",
    "\n",
    "from torchvision import datasets, transforms\n",
    "model = LeNet()\n",
    "dataset = datasets.MNIST('../data', train=True, download=True,\n",
    "               transform=transforms.Compose([\n",
    "                   transforms.ToTensor(),\n",
    "                   transforms.Normalize((0.1307,), (0.3081,))\n",
    "               ])),"
   ]
  },
  {
   "cell_type": "code",
   "execution_count": 219,
   "metadata": {},
   "outputs": [],
   "source": [
    "import torch\n",
    "\n",
    "def affinity(x1, x2):\n",
    "    N, C, T, H, W  = x1.shape\n",
    "\n",
    "    # assert x1.shape == x2.shape\n",
    "\n",
    "    # assuming xs: N, C, 1, H, W\n",
    "    x1 = x1.transpose(3, 4).contiguous() # for the inlier counter\n",
    "    x1_flat = x1.view(x1.size(0), x1.size(1), -1)\n",
    "    x1_flat = x1_flat.transpose(1, 2)\n",
    "    x2_flat = x2.transpose(3, 4).contiguous().view(x2.size(0), x2.size(1), -1)\n",
    "\n",
    "    # import pdb; pdb.set_trace()\n",
    "\n",
    "    A = torch.matmul(x1_flat, x2_flat)\n",
    "    A = torch.div(A, C**0.5)\n",
    "    return A\n",
    "\n",
    "def get_flow(corr):\n",
    "    # assume corr is shape N x H * W x W x H\n",
    "\n",
    "#     corr = torch.randn((2, 10 * 10, 10, 10))\n",
    "    nnf = corr.argmax(dim=1)\n",
    "#     print(nnf)\n",
    "    nnf = nnf.transpose(-1, -2)\n",
    "\n",
    "    u = nnf % nnf.shape[-1]\n",
    "    v = nnf / nnf.shape[-2] # nnf is an IntTensor so rounds automatically\n",
    "\n",
    "    rr = torch.arange(u.shape[-1])[None].long()\n",
    "\n",
    "    for i in range(u.shape[-1]):\n",
    "        u[:, i] -= rr\n",
    "\n",
    "    for i in range(v.shape[-1]):\n",
    "        v[:, :, i] -= rr\n",
    "\n",
    "    return u, v\n",
    "        \n",
    "import cv2\n",
    "import numpy as np\n",
    "\n",
    "def draw_hsv(flow):\n",
    "    h, w = flow.shape[:2]\n",
    "    fx, fy = flow[:,:,0], flow[:,:,1]\n",
    "    ang = np.arctan2(fy, fx) + np.pi\n",
    "    v = np.sqrt(fx*fx+fy*fy)\n",
    "    hsv = np.zeros((h, w, 3), np.uint8)\n",
    "    hsv[...,0] = ang*(180/np.pi/2)\n",
    "    hsv[...,1] = 255\n",
    "    hsv[...,2] = np.minimum(v*4, 255)\n",
    "    bgr = cv2.cvtColor(hsv, cv2.COLOR_HSV2BGR)#[:, :, ::-1]\n",
    "    return bgr\n",
    "\n",
    "# flows = vis_flow(u, v)\n",
    "\n",
    "# return flows, u, v"
   ]
  },
  {
   "cell_type": "code",
   "execution_count": 220,
   "metadata": {},
   "outputs": [
    {
     "name": "stdout",
     "output_type": "stream",
     "text": [
      "torch.Size([3, 28, 28])\n"
     ]
    },
    {
     "data": {
      "image/png": "[encoded data removed]",
      "text/plain": [
       "<Figure size 432x288 with 1 Axes>"
      ]
     },
     "metadata": {
      "needs_background": "light"
     },
     "output_type": "display_data"
    },
    {
     "data": {
      "image/png": "[encoded data removed]",
      "text/plain": [
       "<Figure size 432x288 with 1 Axes>"
      ]
     },
     "metadata": {
      "needs_background": "light"
     },
     "output_type": "display_data"
    },
    {
     "name": "stdout",
     "output_type": "stream",
     "text": [
      "torch.Size([1, 16, 16, 16]) f1 shape\n",
      "unsqueezed torch.Size([1, 3, 1, 24, 24])\n",
      "torch.Size([1, 576, 24, 24])\n",
      "torch.Size([1, 24, 24]) nnf shape\n",
      "torch.Size([24, 24, 2])\n",
      "(24, 24, 3)\n"
     ]
    },
    {
     "data": {
      "image/png": "[encoded data removed]",
      "text/plain": [
       "<Figure size 432x288 with 1 Axes>"
      ]
     },
     "metadata": {
      "needs_background": "light"
     },
     "output_type": "display_data"
    }
   ],
   "source": [
    "import matplotlib.pyplot as plt\n",
    "%matplotlib inline\n",
    "\n",
    "x = torch.stack([dataset[0][0][0][0] for _ in range(3)])\n",
    "\n",
    "# x = torch.randn(3, 28, 28)\n",
    "print(x.shape)\n",
    "x1 = x[:,     4:, 4:]\n",
    "x2 = x[:, :-4, :  -4]\n",
    "\n",
    "def show(xx):\n",
    "#     xx = torch.stack([xx[0] for _ in range(3)])\n",
    "\n",
    "    xx = (xx - xx.min()) / (xx - xx.min()).max()\n",
    "    plt.imshow(xx.numpy().transpose(1,2,0))\n",
    "    plt.show()\n",
    "\n",
    "show(x1)\n",
    "show(x2)\n",
    "import torch.nn.functional as F\n",
    "f1 = model(x1[None])\n",
    "f2 = model(x2[None])\n",
    "\n",
    "\n",
    "print(f1.shape, 'f1 shape')\n",
    "f1 = x1[None].contiguous()\n",
    "f2 = x2[None].contiguous()\n",
    "# f1 = F.normalize(f1, dim=1)\n",
    "# f2 = F.normalize(f2, dim=1)\n",
    "\n",
    "print('unsqueezed', f1.unsqueeze(2).shape)\n",
    "A = affinity(f1.unsqueeze(2), f2.unsqueeze(2))\n",
    "\n",
    "# print(A.shape)\n",
    "A = A.view(*A.shape[:-1], f1.shape[-1], -1)\n",
    "print(A.shape)\n",
    "\n",
    "u, v = get_flow(A)\n",
    "flow = torch.stack([u, v], dim=-1)[0]\n",
    "print(flow.shape)\n",
    "\n",
    "flows = draw_hsv(flow)\n",
    "print(flows.shape)\n",
    "plt.imshow(flows)\n",
    "plt.show()\n"
   ]
  },
  {
   "cell_type": "code",
   "execution_count": 210,
   "metadata": {},
   "outputs": [
    {
     "ename": "ModuleNotFoundError",
     "evalue": "No module named 'spatial_correlation_sampler'",
     "output_type": "error",
     "traceback": [
      "\u001b[0;31m---------------------------------------------------------------------------\u001b[0m",
      "\u001b[0;31mModuleNotFoundError\u001b[0m                       Traceback (most recent call last)",
      "\u001b[0;32m<ipython-input-210-475c2354b00f>\u001b[0m in \u001b[0;36m<module>\u001b[0;34m\u001b[0m\n\u001b[0;32m----> 1\u001b[0;31m \u001b[0;32mimport\u001b[0m \u001b[0mspatial_correlation_sampler\u001b[0m \u001b[0;32mas\u001b[0m \u001b[0mcorr\u001b[0m\u001b[0;34m\u001b[0m\u001b[0;34m\u001b[0m\u001b[0m\n\u001b[0m",
      "\u001b[0;31mModuleNotFoundError\u001b[0m: No module named 'spatial_correlation_sampler'"
     ]
    }
   ],
   "source": [
    "import spatial_correlation_sampler as corr"
   ]
  },
  {
   "cell_type": "code",
   "execution_count": 111,
   "metadata": {},
   "outputs": [],
   "source": [
    "x1, x2 = x1[None], x2[None]\n"
   ]
  },
  {
   "cell_type": "code",
   "execution_count": 30,
   "metadata": {},
   "outputs": [
    {
     "name": "stdout",
     "output_type": "stream",
     "text": [
      "torch.Size([1, 24, 24, 24, 24])\n"
     ]
    },
    {
     "data": {
      "text/plain": [
       "tensor(2823.5474)"
      ]
     },
     "execution_count": 30,
     "metadata": {},
     "output_type": "execute_result"
    }
   ],
   "source": [
    "affilter = corr.SpatialCorrelationSampler(\n",
    "    kernel_size=1,\n",
    "    patch_size=24,\n",
    "    stride=1,\n",
    "    padding=0,\n",
    "    dilation=1,\n",
    "    dilation_patch=1\n",
    ")\n",
    "n, c, h, w = x1.shape\n",
    "\n",
    "xx1 = x1.contiguous().view(n, c, h*w).contiguous().transpose(1, 2)\n",
    "xx2 = x2.contiguous().view(n, c, h*w)\n",
    "\n",
    "a1 = torch.matmul(xx1, xx2).view(n, h, w, h, w)\n",
    "a2 = affilter(x1, x2).transpose(2,3)\n",
    "print(a2.shape)\n",
    "(a1 - a2).sum()"
   ]
  },
  {
   "cell_type": "code",
   "execution_count": null,
   "metadata": {},
   "outputs": [],
   "source": []
  }
 ],
 "metadata": {
  "kernelspec": {
   "display_name": "Python 3",
   "language": "python",
   "name": "python3"
  },
  "language_info": {
   "codemirror_mode": {
    "name": "ipython",
    "version": 3
   },
   "file_extension": ".py",
   "mimetype": "text/x-python",
   "name": "python",
   "nbconvert_exporter": "python",
   "pygments_lexer": "ipython3",
   "version": "3.7.3"
  }
 },
 "nbformat": 4,
 "nbformat_minor": 4
}
